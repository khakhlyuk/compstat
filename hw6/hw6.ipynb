{
 "cells": [
  {
   "cell_type": "markdown",
   "metadata": {},
   "source": [
    "# Problem 1"
   ]
  },
  {
   "cell_type": "markdown",
   "metadata": {},
   "source": [
    "## 1.a\n",
    "In HW5 Problem 5 I have shown that:"
   ]
  },
  {
   "cell_type": "markdown",
   "metadata": {
    "Collapsed": "false"
   },
   "source": [
    "$$\n",
    "\\begin{aligned}\n",
    "\\pi(\\mu_{1}, \\mu_{2}) &  \\sim \\ell (\\mu_{1}, \\mu_{2}) \\cdot p (\\mu_{1}, \\mu_{2})\\\\\n",
    "&=\\ell (\\mu_{1}, \\mu_{2}) \\cdot 1\\\\\n",
    "&=\\ell (\\mu_{1}, \\mu_{2}) \\\\\n",
    "&= N_{n}  (y_{1}, \\ldots y_{n} \\mid \\mu, \\Sigma) \\\\\n",
    "& \\sim \\prod_{i=1}^{n} \\operatorname{exp}\\left\\{-\\frac{1}{2}(y_{i}-\\mu)^{\\top} \\Sigma^{-1}(y_{i}-\\mu)\\right\\} \\\\\n",
    "&\\sim \\prod_{i=1}^{n} \\operatorname{exp}\\left\\{-\\frac{1}{2}\\left[y_{i}^{\\top} \\Sigma^{-1} y_{i}-2 \\mu^{\\top} \\Sigma^{-1} y_{i}+\\mu^{\\top} \\Sigma^{-1} \\mu\\right]\\right\\}\\\\\n",
    "&\\sim \\prod_{i=1}^{n} \\exp \\left\\{-\\frac{1}{2}\\left[-2 \\mu^{\\top} \\Sigma^{-1} y_{i}+\\mu^{\\top} \\Sigma^{-1} \\mu\\right]\\right\\}\\\\\n",
    "&=\\operatorname{exp}\\left\\{-\\frac{1}{2} \\sum_{i=1}^{n}\\left[-2 \\mu^{\\top} \\Sigma^{-1} y_{i}+\\mu^{\\top} \\Sigma^{-1} \\mu\\right]\\right\\}\\\\\n",
    "&=\\operatorname{exp}\\left\\{-\\frac{n}{2}\\left[-2 \\mu^{\\top} \\Sigma^{-1} \\bar{y}+\\mu^{\\top} \\Sigma^{-1} \\mu\\right]\\right\\}\\\\\n",
    "&\\sim \\operatorname{exp}\\left\\{-\\frac{n}{2}\\left[(\\mu-\\bar{y})^{\\top} \\Sigma^{-1}(\\mu-\\bar{y})\\right]\\right\\}\\\\\n",
    "&\\sim N_{2}(\\mu \\mid \\bar{y}, \\frac{\\Sigma}{n})\n",
    "\\end{aligned}\n",
    "$$\n",
    "\n",
    "$$\n",
    "\\begin{array}{l}\n",
    "\\pi(\\mu) \\sim N_{2}(\\mu \\mid \\bar{y}, \\frac{\\Sigma}{n}) \\\\\n",
    "\\text { where } \\bar{y}=\\frac{1}{n} \\sum_{i=1}^{n} y_{i}\n",
    "\\end{array}\n",
    "$$"
   ]
  },
  {
   "cell_type": "markdown",
   "metadata": {},
   "source": [
    "So that is the target distribution. The proposal distribution is:\n",
    "$$q(\\theta, \\phi) \\sim N_{2}(\\phi \\mid \\theta, \\Sigma)$$"
   ]
  },
  {
   "cell_type": "markdown",
   "metadata": {},
   "source": [
    "Acceptance probability of MH is defined as follows:\n",
    "$$a(\\theta, \\phi)=\\min \\left({1, \\frac{\\pi(\\phi)) q(\\phi,\\theta)}{\\pi(\\theta) q(\\theta, \\phi)}} \\right)$$\n",
    "\n",
    "Proposal is symmetric $q(\\phi, \\theta)=q(\\theta, \\phi)$, as shown below:\n",
    "$$\n",
    "\\begin{aligned}\n",
    "q(\\theta, \\phi)&=N(\\phi \\mid \\theta, \\Sigma)\\\\\n",
    "&=exp\\left(\n",
    "\\frac{\n",
    "    -\\frac{1}{2}(\\phi-\\theta)^{\\top}\\Sigma^{-1}(\\phi-\\theta)}\n",
    "    {\\sqrt{(2 \\pi)^{k}|\\Sigma|}\n",
    "}\n",
    "\\right)\\\\\n",
    "&= exp\\left(\n",
    "\\frac{\n",
    "    -\\frac{1}{2}(\\theta-\\phi)^{\\top}\\Sigma^{-1}(\\theta-\\phi)}\n",
    "    {\\sqrt{(2 \\pi)^{k}|\\Sigma|}\n",
    "}\n",
    "\\right)\\\\\n",
    "&=N(\\theta \\mid \\phi, \\Sigma)\\\\\n",
    "&=q(\\phi, \\theta)\n",
    "\\end{aligned}\n",
    "$$"
   ]
  },
  {
   "cell_type": "markdown",
   "metadata": {},
   "source": [
    "Then our term for acceptance probability simplifies to:\n",
    "$$\n",
    "\\begin{aligned}\n",
    "a(\\theta, \\phi)=&\\min \\left({1, \\frac{\\pi(\\phi)) q(\\phi,\\theta)}{\\pi(\\theta) q(\\theta, \\phi)}}\\right)\\\\\n",
    "=&\\min \\left({1, \\frac{\\pi(\\phi))}{\\pi(\\theta)}}\\right)\\\\\n",
    "=&\\min \\left({1, \\frac{N_{2}(\\phi \\mid \\bar{y}, \\frac{\\Sigma}{n})}{N_{2}(\\theta \\mid \\bar{y}, \\frac{\\Sigma}{n})}}\\right)\\\\\n",
    "=&\\min \\left(1, exp\\left\\{-\\frac{n}{2} \\left( (\\phi-\\bar{y})^{\\top} \\Sigma^{-1}(\\phi-\\bar{y})-(\\theta-\\bar{y})^{\\top} \\Sigma^{-1}(\\theta-\\bar{y})\\right)\\right\\}\\right)\n",
    "\\end{aligned}\n",
    "$$"
   ]
  },
  {
   "cell_type": "markdown",
   "metadata": {},
   "source": [
    "### Metropolis Hastings Algorithm:\n",
    "1. Set iteration counter $j=1$ and choose arbitrary initial value $\\boldsymbol{\\mu}^{(0)}$\n",
    "2. Generate a value $\\boldsymbol{\\phi}$ from the proposal density $q\\left(\\boldsymbol{\\mu}^{(j-1)}, \\cdot\\right)$ (as defined above)\n",
    "3. Evaluate the acceptance probability of the move given by $\\alpha\\left(\\boldsymbol{\\mu}^{(j-1)}, \\boldsymbol{\\phi}\\right)$ (as defined above). If the move is accepted, then set the new value of the Markov chain as $\\boldsymbol{\\mu}^{(j)}=\\boldsymbol{\\phi}$. If the move is not accepted, then $\\operatorname{set} \\boldsymbol{\\mu}^{(j)}=\\boldsymbol{\\mu}^{(j-1)},$ i.e. Markov chain does not move.\n",
    "4. Change the counter from $j$ to $j+1$ and return to Step 2 until convergence is reached or until R samples are generated."
   ]
  },
  {
   "cell_type": "markdown",
   "metadata": {
    "Collapsed": "false"
   },
   "source": [
    "## 1.b"
   ]
  },
  {
   "cell_type": "code",
   "execution_count": 1,
   "metadata": {
    "Collapsed": "false"
   },
   "outputs": [],
   "source": [
    "MH <- function(y, Sigma, R=1000){\n",
    "  n <- dim(y)[1]\n",
    "\n",
    "  # variables where generated values will be saved\n",
    "  mu_chain      <- matrix(NA, R, 2)\n",
    "  mu_chain[1,]  <- runif(2,0,10)\n",
    "\n",
    "  y.mean1 <- mean(y[,1])\n",
    "  y.mean2 <- mean(y[,2])\n",
    "  y.mean <- c(y.mean1, y.mean2)\n",
    "\n",
    "  Sigma_inv = solve(Sigma)\n",
    "\n",
    "  # create parameter chain\n",
    "  for (i in 2:(R)){\n",
    "\n",
    "    # old value\n",
    "    old <- mu_chain[i-1,]\n",
    "    # porposal\n",
    "    new <- mvtnorm::rmvnorm(n=1, mean=old, sigma=Sigma)\n",
    "\n",
    "    v1 = matrix(new-y.mean, nrow=2, ncol=1)\n",
    "    v2 = matrix(old-y.mean, nrow=2, ncol=1)\n",
    "    term1 = t(v1) %*% Sigma_inv %*% v1\n",
    "    term2 = t(v2) %*% Sigma_inv %*% v2\n",
    "\n",
    "    rate = exp(-n/2 * (term1-term2))\n",
    "    a <- min(1, rate)\n",
    "\n",
    "    if (a > runif(1)){\n",
    "        mu_chain[i,] <- new\n",
    "    }\n",
    "    else{\n",
    "        mu_chain[i,] <- old\n",
    "    }\n",
    "  }\n",
    "\n",
    "  return(mu_chain)\n",
    "}"
   ]
  },
  {
   "cell_type": "markdown",
   "metadata": {
    "Collapsed": "false"
   },
   "source": [
    "## 1.c"
   ]
  },
  {
   "cell_type": "code",
   "execution_count": 2,
   "metadata": {
    "Collapsed": "false"
   },
   "outputs": [],
   "source": [
    "set.seed(42)\n",
    "mu_real = c(6,2)\n",
    "sigma1 = sqrt(2)\n",
    "sigma2 = sqrt(0.5)\n",
    "rho = 0.05\n",
    "n = 100\n",
    "Sig = matrix(c(sigma1^2, sigma1*sigma2*rho, \n",
    "               sigma1*sigma2*rho, sigma2^2), nrow = 2, ncol = 2)\n",
    "\n",
    "Y <- MASS::mvrnorm(n, mu_real, Sig)"
   ]
  },
  {
   "cell_type": "code",
   "execution_count": 3,
   "metadata": {
    "Collapsed": "false"
   },
   "outputs": [],
   "source": [
    "R1 = 100\n",
    "R2 = 100000"
   ]
  },
  {
   "cell_type": "code",
   "execution_count": 4,
   "metadata": {
    "Collapsed": "false"
   },
   "outputs": [],
   "source": [
    "mu_chain_1 <- MH(Y, Sig, R=R1)\n",
    "mu_chain_2 <- MH(Y, Sig, R=R2)"
   ]
  },
  {
   "cell_type": "markdown",
   "metadata": {
    "Collapsed": "false"
   },
   "source": [
    "## 1.d"
   ]
  },
  {
   "cell_type": "code",
   "execution_count": 5,
   "metadata": {},
   "outputs": [],
   "source": [
    "loglikelihood=function(mu1,mu2){ \n",
    "    sum=0\n",
    "    for(i in 1:n){ sum=sum+sigma2^2*(Y[i,1]-mu1)^2-2*rho*sigma1*sigma2*(Y[i,1]-mu1)*\n",
    "        (Y[i,2]-mu2)+sigma1^2*(Y[i,2]-mu2)^2 }\n",
    "    return(-sum/(2*sigma1^2*sigma2^2*(1-rho^2))) }\n",
    "\n",
    "Dev=function(mu1,mu2) {\n",
    "    return(-2*loglikelihood(mu1,mu2))\n",
    "}\n",
    "\n",
    "#DIC with (4.12) from the script\n",
    "DIC1=function(mu1,mu2) {\n",
    "    Dbar=mean(Dev(mu1,mu2))\n",
    "    return(2*Dbar-Dev(mean(mu1),mean(mu2)))\n",
    "}\n",
    "\n",
    "#DIC with (4.13) from the script\n",
    "DIC2=function(mu1,mu2) {\n",
    "    Dbar=mean(Dev(mu1,mu2))\n",
    "    R=length(mu1) \n",
    "    return(R/(2*(R-1))*mean((Dev(mu1,mu2)-Dbar)^2)+Dbar)\n",
    "}"
   ]
  },
  {
   "cell_type": "code",
   "execution_count": 6,
   "metadata": {
    "Collapsed": "false"
   },
   "outputs": [
    {
     "data": {
      "text/html": [
       "612.195289076874"
      ],
      "text/latex": [
       "612.195289076874"
      ],
      "text/markdown": [
       "612.195289076874"
      ],
      "text/plain": [
       "[1] 612.1953"
      ]
     },
     "metadata": {},
     "output_type": "display_data"
    }
   ],
   "source": [
    "DIC1(mu_chain_1[,1], mu_chain_1[,2])"
   ]
  },
  {
   "cell_type": "code",
   "execution_count": 7,
   "metadata": {},
   "outputs": [
    {
     "data": {
      "text/html": [
       "282610.363701687"
      ],
      "text/latex": [
       "282610.363701687"
      ],
      "text/markdown": [
       "282610.363701687"
      ],
      "text/plain": [
       "[1] 282610.4"
      ]
     },
     "metadata": {},
     "output_type": "display_data"
    }
   ],
   "source": [
    "DIC2(mu_chain_1[,1], mu_chain_1[,2])"
   ]
  },
  {
   "cell_type": "code",
   "execution_count": 8,
   "metadata": {},
   "outputs": [
    {
     "data": {
      "text/html": [
       "192.905401225767"
      ],
      "text/latex": [
       "192.905401225767"
      ],
      "text/markdown": [
       "192.905401225767"
      ],
      "text/plain": [
       "[1] 192.9054"
      ]
     },
     "metadata": {},
     "output_type": "display_data"
    }
   ],
   "source": [
    "DIC1(mu_chain_2[,1], mu_chain_2[,2])"
   ]
  },
  {
   "cell_type": "code",
   "execution_count": 9,
   "metadata": {},
   "outputs": [
    {
     "data": {
      "text/html": [
       "807.950445456942"
      ],
      "text/latex": [
       "807.950445456942"
      ],
      "text/markdown": [
       "807.950445456942"
      ],
      "text/plain": [
       "[1] 807.9504"
      ]
     },
     "metadata": {},
     "output_type": "display_data"
    }
   ],
   "source": [
    "DIC2(mu_chain_2[,1], mu_chain_2[,2])"
   ]
  },
  {
   "cell_type": "markdown",
   "metadata": {},
   "source": [
    "For both DIC from eq. 4.12 and eq. 4.13, MH with more iterations obtained a lower score, which indicates that longer sampling is beneficial.\n",
    "\n",
    "The results from HW5 with Gibbs where as follows:\n",
    "- 197.3104\n",
    "- 4447.148\n",
    "- 179.0809\n",
    "- 179.5949\n",
    "\n",
    "We notice that Gibbs has lower DIC scores for all chain lengths and both DIC1 and DIC2.\n",
    "Which let's us assume, that Gibbs sampler was a better choice for sampling from this distribution.\n",
    "\n",
    "It is worth noting, that proposal density wasn't optimal for MH sampler. Lower variance, for example, would be very beneficial, at least for the R=100000 chain."
   ]
  },
  {
   "cell_type": "markdown",
   "metadata": {},
   "source": [
    "# Problem 2"
   ]
  },
  {
   "cell_type": "markdown",
   "metadata": {},
   "source": [
    "The chain is reversible and $\\pi(\\cdot)$ is it's stationary distribution, if the detailed balance equation is satisfied (script, p42). The detailed balance equation is defined as follows:\n",
    "$$\n",
    "\\pi(\\boldsymbol{\\theta}) p(\\boldsymbol{\\theta}, \\phi)=\\pi(\\boldsymbol{\\phi}) p(\\boldsymbol{\\phi}, \\boldsymbol{\\theta}) \\quad \\forall \\boldsymbol{\\theta}, \\boldsymbol{\\phi}\n",
    "$$"
   ]
  },
  {
   "cell_type": "markdown",
   "metadata": {},
   "source": [
    "Then, using transition kernel of MH algorithm:\n",
    "\n",
    "$$\\pi(\\theta) q(\\theta, \\phi)a(\\theta, \\phi)=\\pi(\\phi) q(\\phi, \\theta)a(\\phi, \\theta) \\quad \\forall \\theta, \\phi$$"
   ]
  },
  {
   "cell_type": "markdown",
   "metadata": {},
   "source": [
    "Now let's solve the equation"
   ]
  },
  {
   "cell_type": "markdown",
   "metadata": {},
   "source": [
    "$$\\frac{a(\\theta, \\phi)}{a(\\phi, \\theta)}=\\frac{\\pi(\\phi)}{\\pi(\\theta)} \\cdot \\frac{q(\\phi, \\theta)}{q(\\theta, \\phi)}$$\n",
    "\n",
    "$$\n",
    "\\begin{array}{c}\n",
    "\\text { if } \\frac{\\pi(\\phi) q(\\phi, \\theta)}{\\pi(\\theta) \\cdot q(\\theta, \\phi)}>1: \\\\\n",
    "\\frac{1}{\\frac{\\pi(\\theta) q(\\theta, \\phi)}{\\pi(\\phi) q(\\phi, \\theta)}}=\\frac{\\pi(\\phi)}{\\pi(\\theta)} \\frac{q (\\phi, \\theta)}{q(\\theta, \\phi)}\\\\\n",
    "1 = 1\n",
    "\\end{array}\n",
    "$$"
   ]
  },
  {
   "cell_type": "markdown",
   "metadata": {},
   "source": [
    "$$\n",
    "\\begin{array}{c}\n",
    "\\text { if } \\frac{\\pi(\\phi) q(\\phi, \\theta)}{\\pi(\\theta) \\cdot q(\\theta, \\phi)} \\le 1: \\\\\n",
    "\\frac{\\frac{\\pi(\\phi) q(\\phi, \\theta)}{\\pi(\\theta) q(\\theta, \\phi)}}{1}=\\frac{\\pi(\\phi)}{\\pi(\\theta)} \\frac{q (\\phi, \\theta)}{q(\\theta, \\phi)}\\\\\n",
    "1 = 1\n",
    "\\end{array}\n",
    "$$"
   ]
  },
  {
   "cell_type": "markdown",
   "metadata": {},
   "source": [
    "So the detailed balance equation holds for all $\\theta, \\phi$ and for an arbitrary kernel $q(\\phi, \\theta)$:\n",
    "\n",
    "$$\\pi(\\theta) q(\\theta, \\phi)a(\\theta, \\phi)=\\pi(\\phi) q(\\phi, \\theta)a(\\phi, \\theta) \\quad \\forall \\theta, \\phi$$\n",
    "\n",
    "Therefore, the chain is reversible and $\\pi(\\cdot)$ is it's stationary distribution."
   ]
  },
  {
   "cell_type": "code",
   "execution_count": null,
   "metadata": {},
   "outputs": [],
   "source": []
  }
 ],
 "metadata": {
  "kernelspec": {
   "display_name": "R",
   "language": "R",
   "name": "ir"
  },
  "language_info": {
   "codemirror_mode": "r",
   "file_extension": ".r",
   "mimetype": "text/x-r-source",
   "name": "R",
   "pygments_lexer": "r",
   "version": "3.6.1"
  }
 },
 "nbformat": 4,
 "nbformat_minor": 4
}
