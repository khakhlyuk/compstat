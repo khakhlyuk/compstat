{
 "cells": [
  {
   "cell_type": "markdown",
   "metadata": {
    "Collapsed": "false"
   },
   "source": [
    "# Vectorized code\n",
    "\n",
    "- Vectorized code is a lot faster.\n",
    "- most functions in R are already vectorized, so it often depends on you rather than R to write vectorized code.\n",
    "\n",
    "### Main principles\n",
    "- never loop over the element of vectors\n",
    "- use vectors with Boolean entries instead of `if`\n",
    "- write the code as you would do it in pandas\n",
    "\n",
    "### How to write fast loops\n",
    "- First, do as much as you can outside of the for loop. Every line of code that you place inside of the for loop will be run many, many times. If a line of code only needs to be run once, place it outside of the loop to avoid repetition.\n",
    "- Second, make sure that any storage objects that you use with the loop are large enough to contain all of the results of the loop. This way R doesn't have to reallocate memory multiple times."
   ]
  },
  {
   "cell_type": "code",
   "execution_count": 1,
   "metadata": {
    "Collapsed": "false"
   },
   "outputs": [],
   "source": [
    "abs_loop <- function(vec){\n",
    "  for (i in 1:length(vec)) {\n",
    "    if (vec[i] < 0) {\n",
    "      vec[i] <- -vec[i]\n",
    "    }\n",
    "  }\n",
    "  vec\n",
    "}"
   ]
  },
  {
   "cell_type": "code",
   "execution_count": 2,
   "metadata": {
    "Collapsed": "false"
   },
   "outputs": [],
   "source": [
    "abs_sets <- function(vec){\n",
    "  negs <- vec < 0\n",
    "  vec[negs] <- vec[negs] * -1\n",
    "  vec\n",
    "}"
   ]
  },
  {
   "cell_type": "markdown",
   "metadata": {
    "Collapsed": "false"
   },
   "source": [
    "Notice how we always operate on the same vector here.  \n",
    "on the left we choose a portion of `vec` to which to assign, on the right we choose a portion of the `vec` on which we do the operations."
   ]
  },
  {
   "cell_type": "markdown",
   "metadata": {
    "Collapsed": "false"
   },
   "source": [
    "![title](./img/vec_assignment.png)"
   ]
  },
  {
   "cell_type": "markdown",
   "metadata": {
    "Collapsed": "false"
   },
   "source": [
    "## Another example"
   ]
  },
  {
   "cell_type": "code",
   "execution_count": 10,
   "metadata": {
    "Collapsed": "false"
   },
   "outputs": [
    {
     "name": "stdout",
     "output_type": "stream",
     "text": [
      "[1] \"DD\"  \"C\"   \"7\"   \"B\"   \"BB\"  \"BBB\" \"0\"  \n",
      "[1] \"joker\" \"ace\"   \"king\"  \"queen\" \"jack\"  \"ten\"   \"nine\" \n"
     ]
    }
   ],
   "source": [
    "change_symbols <- function(vec){\n",
    "  for (i in 1:length(vec)){\n",
    "    if (vec[i] == \"DD\") {\n",
    "      vec[i] <- \"joker\"\n",
    "    } else if (vec[i] == \"C\") {\n",
    "      vec[i] <- \"ace\"\n",
    "    } else if (vec[i] == \"7\") {\n",
    "      vec[i] <- \"king\"\n",
    "    }else if (vec[i] == \"B\") {\n",
    "      vec[i] <- \"queen\"\n",
    "    } else if (vec[i] == \"BB\") {\n",
    "      vec[i] <- \"jack\"\n",
    "    } else if (vec[i] == \"BBB\") {\n",
    "      vec[i] <- \"ten\"\n",
    "    } else {\n",
    "      vec[i] <- \"nine\"\n",
    "    } \n",
    "  }\n",
    "  vec\n",
    "}\n",
    "\n",
    "vec <- c(\"DD\", \"C\", \"7\", \"B\", \"BB\", \"BBB\", \"0\")\n",
    "\n",
    "print(vec)\n",
    "print(change_symbols(vec))"
   ]
  },
  {
   "cell_type": "code",
   "execution_count": 9,
   "metadata": {
    "Collapsed": "false"
   },
   "outputs": [
    {
     "name": "stdout",
     "output_type": "stream",
     "text": [
      "[1] \"DD\"  \"C\"   \"7\"   \"B\"   \"BB\"  \"BBB\" \"0\"  \n",
      "[1] \"joker\" \"ace\"   \"king\"  \"queen\" \"jack\"  \"ten\"   \"nine\" \n"
     ]
    }
   ],
   "source": [
    "change_vec <- function (vec) {\n",
    "  vec[vec == \"DD\"] <- \"joker\"\n",
    "  vec[vec == \"C\"] <- \"ace\"\n",
    "  vec[vec == \"7\"] <- \"king\"\n",
    "  vec[vec == \"B\"] <- \"queen\"\n",
    "  vec[vec == \"BB\"] <- \"jack\"\n",
    "  vec[vec == \"BBB\"] <- \"ten\"\n",
    "  vec[vec == \"0\"] <- \"nine\"\n",
    "  \n",
    "  vec\n",
    "}\n",
    "\n",
    "print(vec)\n",
    "print(change_vec(vec))"
   ]
  },
  {
   "cell_type": "markdown",
   "metadata": {
    "Collapsed": "false"
   },
   "source": [
    "### Note: notice that vector cycling is actually really useful here, because the value `joker` gets assigned to all cells with value `DD`"
   ]
  },
  {
   "cell_type": "code",
   "execution_count": null,
   "metadata": {
    "Collapsed": "false"
   },
   "outputs": [],
   "source": []
  }
 ],
 "metadata": {
  "kernelspec": {
   "display_name": "R",
   "language": "R",
   "name": "ir"
  },
  "language_info": {
   "codemirror_mode": "r",
   "file_extension": ".r",
   "mimetype": "text/x-r-source",
   "name": "R",
   "pygments_lexer": "r",
   "version": "3.6.3"
  }
 },
 "nbformat": 4,
 "nbformat_minor": 4
}
