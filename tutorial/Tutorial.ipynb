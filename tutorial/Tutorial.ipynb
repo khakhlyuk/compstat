{
 "cells": [
  {
   "cell_type": "markdown",
   "metadata": {
    "Collapsed": "false"
   },
   "source": [
    "# A quick R tutorial"
   ]
  },
  {
   "cell_type": "markdown",
   "metadata": {
    "Collapsed": "false"
   },
   "source": [
    "## Installation"
   ]
  },
  {
   "cell_type": "markdown",
   "metadata": {
    "Collapsed": "false"
   },
   "source": [
    "### Installing R into a conda environment\n",
    "my `.yml` file for installing a new conda environment with R and several python packages:"
   ]
  },
  {
   "cell_type": "markdown",
   "metadata": {
    "Collapsed": "false"
   },
   "source": [
    "```\n",
    "name: R\n",
    "channels:\n",
    "  - defaults\n",
    "  - conda-forge\n",
    "  - r\n",
    "dependencies:\n",
    "  - python 3.7.*\n",
    "  - pip\n",
    "  - numpy\n",
    "  - scipy\n",
    "  - pandas\n",
    "  - scikit-learn\n",
    "  - matplotlib\n",
    "  - seaborn\n",
    "  - openpyxl\n",
    "  - jupyter\n",
    "  - jupyterlab\n",
    "    \n",
    "  \n",
    "  # R\n",
    "  - r:\n",
    "    - r\n",
    "    - r-irkernel\n",
    "```"
   ]
  },
  {
   "cell_type": "markdown",
   "metadata": {
    "Collapsed": "false"
   },
   "source": [
    "### Installing R packages\n",
    "Packages can be installed directly from R environment (console, jupyter or IDE).   \n",
    "First you will need to install several basic packages + IRkernel (in case you want to use jupyter)."
   ]
  },
  {
   "cell_type": "code",
   "execution_count": null,
   "metadata": {
    "Collapsed": "false"
   },
   "outputs": [],
   "source": [
    "install.packages(c('repr', 'IRdisplay', 'evaluate', 'crayon', 'pbdZMQ', 'devtools', 'uuid', 'digest'))\n",
    "devtools::install_github('IRkernel/IRkernel')\n",
    "IRkernel::installspec() # install IRkernel for the current user"
   ]
  },
  {
   "cell_type": "markdown",
   "metadata": {
    "Collapsed": "false"
   },
   "source": [
    "The following commands show how to install packages in general:\n",
    "- One at a time\n",
    "- Multiple at a time"
   ]
  },
  {
   "cell_type": "code",
   "execution_count": 27,
   "metadata": {
    "Collapsed": "false"
   },
   "outputs": [
    {
     "name": "stderr",
     "output_type": "stream",
     "text": [
      "Updating HTML index of packages in '.Library'\n",
      "\n",
      "Making 'packages.html' ...\n",
      " done\n",
      "\n",
      "also installing the dependencies ‘plyr’, ‘tidyselect’, ‘plogr’\n",
      "\n",
      "\n",
      "Updating HTML index of packages in '.Library'\n",
      "\n",
      "Making 'packages.html' ...\n",
      " done\n",
      "\n"
     ]
    }
   ],
   "source": [
    "install.packages(\"ggplot2\")\n",
    "install.packages(c(\"reshape2\", \"dplyr\"))"
   ]
  },
  {
   "cell_type": "markdown",
   "metadata": {
    "Collapsed": "false"
   },
   "source": [
    "updating works as follows:"
   ]
  },
  {
   "cell_type": "code",
   "execution_count": 28,
   "metadata": {
    "Collapsed": "false"
   },
   "outputs": [],
   "source": [
    "update.packages(c(\"ggplot2\", \"reshape2\", \"dplyr\"))"
   ]
  },
  {
   "cell_type": "markdown",
   "metadata": {
    "Collapsed": "false"
   },
   "source": [
    "## Check up"
   ]
  },
  {
   "cell_type": "code",
   "execution_count": 22,
   "metadata": {
    "Collapsed": "false"
   },
   "outputs": [
    {
     "name": "stdout",
     "output_type": "stream",
     "text": [
      "[1] \"Hello, World!\"\n"
     ]
    }
   ],
   "source": [
    "myString <- \"Hello, World!\"\n",
    "print ( myString)"
   ]
  },
  {
   "cell_type": "code",
   "execution_count": 24,
   "metadata": {
    "Collapsed": "false"
   },
   "outputs": [
    {
     "name": "stdout",
     "output_type": "stream",
     "text": [
      "[1] \"R version 3.6.3 (2020-02-29)\"\n",
      "[1] \"/usr/local/anaconda3/envs/R/lib/R\"\n"
     ]
    }
   ],
   "source": [
    "# get version and path of the R interpreter\n",
    "print(R.version.string) \n",
    "print(R.home())"
   ]
  },
  {
   "cell_type": "markdown",
   "metadata": {
    "Collapsed": "false"
   },
   "source": [
    "## Packages"
   ]
  },
  {
   "cell_type": "markdown",
   "metadata": {
    "Collapsed": "false"
   },
   "source": [
    "### Importing"
   ]
  },
  {
   "cell_type": "code",
   "execution_count": 26,
   "metadata": {
    "Collapsed": "false"
   },
   "outputs": [],
   "source": [
    "library(ggplot2)"
   ]
  },
  {
   "cell_type": "markdown",
   "metadata": {
    "Collapsed": "false"
   },
   "source": [
    "### List Installed packages\n",
    "PyCharm shows these"
   ]
  },
  {
   "cell_type": "code",
   "execution_count": 14,
   "metadata": {
    "Collapsed": "false",
    "collapsed": true,
    "jupyter": {
     "outputs_hidden": true
    }
   },
   "outputs": [
    {
     "data": {
      "text/html": [
       "<table>\n",
       "<caption>A data.frame: 83 × 2</caption>\n",
       "<thead>\n",
       "\t<tr><th></th><th scope=col>Package</th><th scope=col>Version</th></tr>\n",
       "\t<tr><th></th><th scope=col>&lt;fct&gt;</th><th scope=col>&lt;fct&gt;</th></tr>\n",
       "</thead>\n",
       "<tbody>\n",
       "\t<tr><th scope=row>askpass</th><td>askpass    </td><td>1.1     </td></tr>\n",
       "\t<tr><th scope=row>assertthat</th><td>assertthat </td><td>0.2.1   </td></tr>\n",
       "\t<tr><th scope=row>backports</th><td>backports  </td><td>1.1.6   </td></tr>\n",
       "\t<tr><th scope=row>base64enc</th><td>base64enc  </td><td>0.1-3   </td></tr>\n",
       "\t<tr><th scope=row>BH</th><td>BH         </td><td>1.72.0-3</td></tr>\n",
       "\t<tr><th scope=row>brew</th><td>brew       </td><td>1.0-6   </td></tr>\n",
       "\t<tr><th scope=row>callr</th><td>callr      </td><td>3.4.3   </td></tr>\n",
       "\t<tr><th scope=row>cli</th><td>cli        </td><td>2.0.2   </td></tr>\n",
       "\t<tr><th scope=row>clipr</th><td>clipr      </td><td>0.7.0   </td></tr>\n",
       "\t<tr><th scope=row>commonmark</th><td>commonmark </td><td>1.7     </td></tr>\n",
       "\t<tr><th scope=row>covr</th><td>covr       </td><td>3.5.0   </td></tr>\n",
       "\t<tr><th scope=row>crayon</th><td>crayon     </td><td>1.3.4   </td></tr>\n",
       "\t<tr><th scope=row>crosstalk</th><td>crosstalk  </td><td>1.1.0.1 </td></tr>\n",
       "\t<tr><th scope=row>curl</th><td>curl       </td><td>4.3     </td></tr>\n",
       "\t<tr><th scope=row>desc</th><td>desc       </td><td>1.2.0   </td></tr>\n",
       "\t<tr><th scope=row>devtools</th><td>devtools   </td><td>2.3.0   </td></tr>\n",
       "\t<tr><th scope=row>digest</th><td>digest     </td><td>0.6.25  </td></tr>\n",
       "\t<tr><th scope=row>DT</th><td>DT         </td><td>0.13    </td></tr>\n",
       "\t<tr><th scope=row>ellipsis</th><td>ellipsis   </td><td>0.3.0   </td></tr>\n",
       "\t<tr><th scope=row>evaluate</th><td>evaluate   </td><td>0.14    </td></tr>\n",
       "\t<tr><th scope=row>fansi</th><td>fansi      </td><td>0.4.1   </td></tr>\n",
       "\t<tr><th scope=row>fs</th><td>fs         </td><td>1.4.1   </td></tr>\n",
       "\t<tr><th scope=row>gh</th><td>gh         </td><td>1.1.0   </td></tr>\n",
       "\t<tr><th scope=row>git2r</th><td>git2r      </td><td>0.26.1  </td></tr>\n",
       "\t<tr><th scope=row>glue</th><td>glue       </td><td>1.4.0   </td></tr>\n",
       "\t<tr><th scope=row>highr</th><td>highr      </td><td>0.8     </td></tr>\n",
       "\t<tr><th scope=row>htmltools</th><td>htmltools  </td><td>0.4.0   </td></tr>\n",
       "\t<tr><th scope=row>htmlwidgets</th><td>htmlwidgets</td><td>1.5.1   </td></tr>\n",
       "\t<tr><th scope=row>httr</th><td>httr       </td><td>1.4.1   </td></tr>\n",
       "\t<tr><th scope=row>ini</th><td>ini        </td><td>0.3.1   </td></tr>\n",
       "\t<tr><th scope=row>⋮</th><td>⋮</td><td>⋮</td></tr>\n",
       "\t<tr><th scope=row>R6</th><td>R6         </td><td>2.4.1  </td></tr>\n",
       "\t<tr><th scope=row>rcmdcheck</th><td>rcmdcheck  </td><td>1.3.3  </td></tr>\n",
       "\t<tr><th scope=row>Rcpp</th><td>Rcpp       </td><td>1.0.4.6</td></tr>\n",
       "\t<tr><th scope=row>rematch2</th><td>rematch2   </td><td>2.1.1  </td></tr>\n",
       "\t<tr><th scope=row>remotes</th><td>remotes    </td><td>2.1.1  </td></tr>\n",
       "\t<tr><th scope=row>repr</th><td>repr       </td><td>1.1.0  </td></tr>\n",
       "\t<tr><th scope=row>rex</th><td>rex        </td><td>1.2.0  </td></tr>\n",
       "\t<tr><th scope=row>rlang</th><td>rlang      </td><td>0.4.5  </td></tr>\n",
       "\t<tr><th scope=row>roxygen2</th><td>roxygen2   </td><td>7.1.0  </td></tr>\n",
       "\t<tr><th scope=row>rprojroot</th><td>rprojroot  </td><td>1.3-2  </td></tr>\n",
       "\t<tr><th scope=row>rstudioapi</th><td>rstudioapi </td><td>0.11   </td></tr>\n",
       "\t<tr><th scope=row>rversions</th><td>rversions  </td><td>2.0.1  </td></tr>\n",
       "\t<tr><th scope=row>sessioninfo</th><td>sessioninfo</td><td>1.1.1  </td></tr>\n",
       "\t<tr><th scope=row>spatial</th><td>spatial    </td><td>7.3-11 </td></tr>\n",
       "\t<tr><th scope=row>stringi</th><td>stringi    </td><td>1.4.6  </td></tr>\n",
       "\t<tr><th scope=row>stringr</th><td>stringr    </td><td>1.4.0  </td></tr>\n",
       "\t<tr><th scope=row>sys</th><td>sys        </td><td>3.3    </td></tr>\n",
       "\t<tr><th scope=row>testthat</th><td>testthat   </td><td>2.3.2  </td></tr>\n",
       "\t<tr><th scope=row>tibble</th><td>tibble     </td><td>3.0.1  </td></tr>\n",
       "\t<tr><th scope=row>usethis</th><td>usethis    </td><td>1.6.0  </td></tr>\n",
       "\t<tr><th scope=row>utf8</th><td>utf8       </td><td>1.1.4  </td></tr>\n",
       "\t<tr><th scope=row>uuid</th><td>uuid       </td><td>0.1-4  </td></tr>\n",
       "\t<tr><th scope=row>vctrs</th><td>vctrs      </td><td>0.2.4  </td></tr>\n",
       "\t<tr><th scope=row>whisker</th><td>whisker    </td><td>0.4    </td></tr>\n",
       "\t<tr><th scope=row>withr</th><td>withr      </td><td>2.2.0  </td></tr>\n",
       "\t<tr><th scope=row>xfun</th><td>xfun       </td><td>0.13   </td></tr>\n",
       "\t<tr><th scope=row>xml2</th><td>xml2       </td><td>1.3.1  </td></tr>\n",
       "\t<tr><th scope=row>xopen</th><td>xopen      </td><td>1.0.0  </td></tr>\n",
       "\t<tr><th scope=row>yaml</th><td>yaml       </td><td>2.2.1  </td></tr>\n",
       "\t<tr><th scope=row>zeallot</th><td>zeallot    </td><td>0.1.0  </td></tr>\n",
       "</tbody>\n",
       "</table>\n"
      ],
      "text/latex": [
       "A data.frame: 83 × 2\n",
       "\\begin{tabular}{r|ll}\n",
       "  & Package & Version\\\\\n",
       "  & <fct> & <fct>\\\\\n",
       "\\hline\n",
       "\taskpass & askpass     & 1.1     \\\\\n",
       "\tassertthat & assertthat  & 0.2.1   \\\\\n",
       "\tbackports & backports   & 1.1.6   \\\\\n",
       "\tbase64enc & base64enc   & 0.1-3   \\\\\n",
       "\tBH & BH          & 1.72.0-3\\\\\n",
       "\tbrew & brew        & 1.0-6   \\\\\n",
       "\tcallr & callr       & 3.4.3   \\\\\n",
       "\tcli & cli         & 2.0.2   \\\\\n",
       "\tclipr & clipr       & 0.7.0   \\\\\n",
       "\tcommonmark & commonmark  & 1.7     \\\\\n",
       "\tcovr & covr        & 3.5.0   \\\\\n",
       "\tcrayon & crayon      & 1.3.4   \\\\\n",
       "\tcrosstalk & crosstalk   & 1.1.0.1 \\\\\n",
       "\tcurl & curl        & 4.3     \\\\\n",
       "\tdesc & desc        & 1.2.0   \\\\\n",
       "\tdevtools & devtools    & 2.3.0   \\\\\n",
       "\tdigest & digest      & 0.6.25  \\\\\n",
       "\tDT & DT          & 0.13    \\\\\n",
       "\tellipsis & ellipsis    & 0.3.0   \\\\\n",
       "\tevaluate & evaluate    & 0.14    \\\\\n",
       "\tfansi & fansi       & 0.4.1   \\\\\n",
       "\tfs & fs          & 1.4.1   \\\\\n",
       "\tgh & gh          & 1.1.0   \\\\\n",
       "\tgit2r & git2r       & 0.26.1  \\\\\n",
       "\tglue & glue        & 1.4.0   \\\\\n",
       "\thighr & highr       & 0.8     \\\\\n",
       "\thtmltools & htmltools   & 0.4.0   \\\\\n",
       "\thtmlwidgets & htmlwidgets & 1.5.1   \\\\\n",
       "\thttr & httr        & 1.4.1   \\\\\n",
       "\tini & ini         & 0.3.1   \\\\\n",
       "\t⋮ & ⋮ & ⋮\\\\\n",
       "\tR6 & R6          & 2.4.1  \\\\\n",
       "\trcmdcheck & rcmdcheck   & 1.3.3  \\\\\n",
       "\tRcpp & Rcpp        & 1.0.4.6\\\\\n",
       "\trematch2 & rematch2    & 2.1.1  \\\\\n",
       "\tremotes & remotes     & 2.1.1  \\\\\n",
       "\trepr & repr        & 1.1.0  \\\\\n",
       "\trex & rex         & 1.2.0  \\\\\n",
       "\trlang & rlang       & 0.4.5  \\\\\n",
       "\troxygen2 & roxygen2    & 7.1.0  \\\\\n",
       "\trprojroot & rprojroot   & 1.3-2  \\\\\n",
       "\trstudioapi & rstudioapi  & 0.11   \\\\\n",
       "\trversions & rversions   & 2.0.1  \\\\\n",
       "\tsessioninfo & sessioninfo & 1.1.1  \\\\\n",
       "\tspatial & spatial     & 7.3-11 \\\\\n",
       "\tstringi & stringi     & 1.4.6  \\\\\n",
       "\tstringr & stringr     & 1.4.0  \\\\\n",
       "\tsys & sys         & 3.3    \\\\\n",
       "\ttestthat & testthat    & 2.3.2  \\\\\n",
       "\ttibble & tibble      & 3.0.1  \\\\\n",
       "\tusethis & usethis     & 1.6.0  \\\\\n",
       "\tutf8 & utf8        & 1.1.4  \\\\\n",
       "\tuuid & uuid        & 0.1-4  \\\\\n",
       "\tvctrs & vctrs       & 0.2.4  \\\\\n",
       "\twhisker & whisker     & 0.4    \\\\\n",
       "\twithr & withr       & 2.2.0  \\\\\n",
       "\txfun & xfun        & 0.13   \\\\\n",
       "\txml2 & xml2        & 1.3.1  \\\\\n",
       "\txopen & xopen       & 1.0.0  \\\\\n",
       "\tyaml & yaml        & 2.2.1  \\\\\n",
       "\tzeallot & zeallot     & 0.1.0  \\\\\n",
       "\\end{tabular}\n"
      ],
      "text/markdown": [
       "\n",
       "A data.frame: 83 × 2\n",
       "\n",
       "| <!--/--> | Package &lt;fct&gt; | Version &lt;fct&gt; |\n",
       "|---|---|---|\n",
       "| askpass | askpass     | 1.1      |\n",
       "| assertthat | assertthat  | 0.2.1    |\n",
       "| backports | backports   | 1.1.6    |\n",
       "| base64enc | base64enc   | 0.1-3    |\n",
       "| BH | BH          | 1.72.0-3 |\n",
       "| brew | brew        | 1.0-6    |\n",
       "| callr | callr       | 3.4.3    |\n",
       "| cli | cli         | 2.0.2    |\n",
       "| clipr | clipr       | 0.7.0    |\n",
       "| commonmark | commonmark  | 1.7      |\n",
       "| covr | covr        | 3.5.0    |\n",
       "| crayon | crayon      | 1.3.4    |\n",
       "| crosstalk | crosstalk   | 1.1.0.1  |\n",
       "| curl | curl        | 4.3      |\n",
       "| desc | desc        | 1.2.0    |\n",
       "| devtools | devtools    | 2.3.0    |\n",
       "| digest | digest      | 0.6.25   |\n",
       "| DT | DT          | 0.13     |\n",
       "| ellipsis | ellipsis    | 0.3.0    |\n",
       "| evaluate | evaluate    | 0.14     |\n",
       "| fansi | fansi       | 0.4.1    |\n",
       "| fs | fs          | 1.4.1    |\n",
       "| gh | gh          | 1.1.0    |\n",
       "| git2r | git2r       | 0.26.1   |\n",
       "| glue | glue        | 1.4.0    |\n",
       "| highr | highr       | 0.8      |\n",
       "| htmltools | htmltools   | 0.4.0    |\n",
       "| htmlwidgets | htmlwidgets | 1.5.1    |\n",
       "| httr | httr        | 1.4.1    |\n",
       "| ini | ini         | 0.3.1    |\n",
       "| ⋮ | ⋮ | ⋮ |\n",
       "| R6 | R6          | 2.4.1   |\n",
       "| rcmdcheck | rcmdcheck   | 1.3.3   |\n",
       "| Rcpp | Rcpp        | 1.0.4.6 |\n",
       "| rematch2 | rematch2    | 2.1.1   |\n",
       "| remotes | remotes     | 2.1.1   |\n",
       "| repr | repr        | 1.1.0   |\n",
       "| rex | rex         | 1.2.0   |\n",
       "| rlang | rlang       | 0.4.5   |\n",
       "| roxygen2 | roxygen2    | 7.1.0   |\n",
       "| rprojroot | rprojroot   | 1.3-2   |\n",
       "| rstudioapi | rstudioapi  | 0.11    |\n",
       "| rversions | rversions   | 2.0.1   |\n",
       "| sessioninfo | sessioninfo | 1.1.1   |\n",
       "| spatial | spatial     | 7.3-11  |\n",
       "| stringi | stringi     | 1.4.6   |\n",
       "| stringr | stringr     | 1.4.0   |\n",
       "| sys | sys         | 3.3     |\n",
       "| testthat | testthat    | 2.3.2   |\n",
       "| tibble | tibble      | 3.0.1   |\n",
       "| usethis | usethis     | 1.6.0   |\n",
       "| utf8 | utf8        | 1.1.4   |\n",
       "| uuid | uuid        | 0.1-4   |\n",
       "| vctrs | vctrs       | 0.2.4   |\n",
       "| whisker | whisker     | 0.4     |\n",
       "| withr | withr       | 2.2.0   |\n",
       "| xfun | xfun        | 0.13    |\n",
       "| xml2 | xml2        | 1.3.1   |\n",
       "| xopen | xopen       | 1.0.0   |\n",
       "| yaml | yaml        | 2.2.1   |\n",
       "| zeallot | zeallot     | 0.1.0   |\n",
       "\n"
      ],
      "text/plain": [
       "            Package     Version \n",
       "askpass     askpass     1.1     \n",
       "assertthat  assertthat  0.2.1   \n",
       "backports   backports   1.1.6   \n",
       "base64enc   base64enc   0.1-3   \n",
       "BH          BH          1.72.0-3\n",
       "brew        brew        1.0-6   \n",
       "callr       callr       3.4.3   \n",
       "cli         cli         2.0.2   \n",
       "clipr       clipr       0.7.0   \n",
       "commonmark  commonmark  1.7     \n",
       "covr        covr        3.5.0   \n",
       "crayon      crayon      1.3.4   \n",
       "crosstalk   crosstalk   1.1.0.1 \n",
       "curl        curl        4.3     \n",
       "desc        desc        1.2.0   \n",
       "devtools    devtools    2.3.0   \n",
       "digest      digest      0.6.25  \n",
       "DT          DT          0.13    \n",
       "ellipsis    ellipsis    0.3.0   \n",
       "evaluate    evaluate    0.14    \n",
       "fansi       fansi       0.4.1   \n",
       "fs          fs          1.4.1   \n",
       "gh          gh          1.1.0   \n",
       "git2r       git2r       0.26.1  \n",
       "glue        glue        1.4.0   \n",
       "highr       highr       0.8     \n",
       "htmltools   htmltools   0.4.0   \n",
       "htmlwidgets htmlwidgets 1.5.1   \n",
       "httr        httr        1.4.1   \n",
       "ini         ini         0.3.1   \n",
       "⋮           ⋮           ⋮       \n",
       "R6          R6          2.4.1   \n",
       "rcmdcheck   rcmdcheck   1.3.3   \n",
       "Rcpp        Rcpp        1.0.4.6 \n",
       "rematch2    rematch2    2.1.1   \n",
       "remotes     remotes     2.1.1   \n",
       "repr        repr        1.1.0   \n",
       "rex         rex         1.2.0   \n",
       "rlang       rlang       0.4.5   \n",
       "roxygen2    roxygen2    7.1.0   \n",
       "rprojroot   rprojroot   1.3-2   \n",
       "rstudioapi  rstudioapi  0.11    \n",
       "rversions   rversions   2.0.1   \n",
       "sessioninfo sessioninfo 1.1.1   \n",
       "spatial     spatial     7.3-11  \n",
       "stringi     stringi     1.4.6   \n",
       "stringr     stringr     1.4.0   \n",
       "sys         sys         3.3     \n",
       "testthat    testthat    2.3.2   \n",
       "tibble      tibble      3.0.1   \n",
       "usethis     usethis     1.6.0   \n",
       "utf8        utf8        1.1.4   \n",
       "uuid        uuid        0.1-4   \n",
       "vctrs       vctrs       0.2.4   \n",
       "whisker     whisker     0.4     \n",
       "withr       withr       2.2.0   \n",
       "xfun        xfun        0.13    \n",
       "xml2        xml2        1.3.1   \n",
       "xopen       xopen       1.0.0   \n",
       "yaml        yaml        2.2.1   \n",
       "zeallot     zeallot     0.1.0   "
      ]
     },
     "metadata": {},
     "output_type": "display_data"
    }
   ],
   "source": [
    "ip = as.data.frame(installed.packages()[,c(1,3:4)])\n",
    "ip = ip[is.na(ip$Priority),1:2,drop=FALSE]\n",
    "ip"
   ]
  },
  {
   "cell_type": "markdown",
   "metadata": {
    "Collapsed": "false"
   },
   "source": [
    "### List all packages (pre-installed + installed)\n",
    "All packages you can import.  Rstudio shows this.  "
   ]
  },
  {
   "cell_type": "code",
   "execution_count": 15,
   "metadata": {
    "Collapsed": "false",
    "collapsed": true,
    "jupyter": {
     "outputs_hidden": true
    }
   },
   "outputs": [
    {
     "data": {
      "text/plain": [
       "R packages available\n",
       "\n",
       "Packages in library ‘/usr/local/anaconda3/envs/R/lib/R/library’:\n",
       "\n",
       "askpass                 Safe Password Entry for R, Git, and SSH\n",
       "assertthat              Easy Pre and Post Assertions\n",
       "backports               Reimplementations of Functions Introduced Since\n",
       "                        R-3.0.0\n",
       "base                    The R Base Package\n",
       "base64enc               Tools for base64 encoding\n",
       "BH                      Boost C++ Header Files\n",
       "boot                    Bootstrap Functions (Originally by Angelo Canty\n",
       "                        for S)\n",
       "brew                    Templating Framework for Report Generation\n",
       "callr                   Call R from R\n",
       "class                   Functions for Classification\n",
       "cli                     Helpers for Developing Command Line Interfaces\n",
       "clipr                   Read and Write from the System Clipboard\n",
       "cluster                 \"Finding Groups in Data\": Cluster Analysis\n",
       "                        Extended Rousseeuw et al.\n",
       "codetools               Code Analysis Tools for R\n",
       "commonmark              High Performance CommonMark and Github Markdown\n",
       "                        Rendering in R\n",
       "compiler                The R Compiler Package\n",
       "covr                    Test Coverage for Packages\n",
       "crayon                  Colored Terminal Output\n",
       "crosstalk               Inter-Widget Interactivity for HTML Widgets\n",
       "curl                    A Modern and Flexible Web Client for R\n",
       "datasets                The R Datasets Package\n",
       "desc                    Manipulate DESCRIPTION Files\n",
       "devtools                Tools to Make Developing R Packages Easier\n",
       "digest                  Create Compact Hash Digests of R Objects\n",
       "DT                      A Wrapper of the JavaScript Library\n",
       "                        'DataTables'\n",
       "ellipsis                Tools for Working with ...\n",
       "evaluate                Parsing and Evaluation Tools that Provide More\n",
       "                        Details than the Default\n",
       "fansi                   ANSI Control Sequence Aware String Functions\n",
       "foreign                 Read Data Stored by 'Minitab', 'S', 'SAS',\n",
       "                        'SPSS', 'Stata', 'Systat', 'Weka', 'dBase', ...\n",
       "fs                      Cross-Platform File System Operations Based on\n",
       "                        'libuv'\n",
       "gh                      'GitHub' 'API'\n",
       "git2r                   Provides Access to Git Repositories\n",
       "glue                    Interpreted String Literals\n",
       "graphics                The R Graphics Package\n",
       "grDevices               The R Graphics Devices and Support for Colours\n",
       "                        and Fonts\n",
       "grid                    The Grid Graphics Package\n",
       "highr                   Syntax Highlighting for R Source Code\n",
       "htmltools               Tools for HTML\n",
       "htmlwidgets             HTML Widgets for R\n",
       "httr                    Tools for Working with URLs and HTTP\n",
       "ini                     Read and Write '.ini' Files\n",
       "IRdisplay               'Jupyter' Display Machinery\n",
       "IRkernel                Native R Kernel for the 'Jupyter Notebook'\n",
       "jsonlite                A Robust, High Performance JSON Parser and\n",
       "                        Generator for R\n",
       "KernSmooth              Functions for Kernel Smoothing Supporting Wand\n",
       "                        & Jones (1995)\n",
       "knitr                   A General-Purpose Package for Dynamic Report\n",
       "                        Generation in R\n",
       "later                   Utilities for Scheduling Functions to Execute\n",
       "                        Later with Event Loops\n",
       "lattice                 Trellis Graphics for R\n",
       "lazyeval                Lazy (Non-Standard) Evaluation\n",
       "lifecycle               Manage the Life Cycle of your Package Functions\n",
       "magrittr                A Forward-Pipe Operator for R\n",
       "markdown                Render Markdown with the C Library 'Sundown'\n",
       "MASS                    Support Functions and Datasets for Venables and\n",
       "                        Ripley's MASS\n",
       "Matrix                  Sparse and Dense Matrix Classes and Methods\n",
       "memoise                 Memoisation of Functions\n",
       "methods                 Formal Methods and Classes\n",
       "mgcv                    Mixed GAM Computation Vehicle with Automatic\n",
       "                        Smoothness Estimation\n",
       "mime                    Map Filenames to MIME Types\n",
       "nlme                    Linear and Nonlinear Mixed Effects Models\n",
       "nnet                    Feed-Forward Neural Networks and Multinomial\n",
       "                        Log-Linear Models\n",
       "openssl                 Toolkit for Encryption, Signatures and\n",
       "                        Certificates Based on OpenSSL\n",
       "parallel                Support for Parallel computation in R\n",
       "pbdZMQ                  Programming with Big Data -- Interface to\n",
       "                        'ZeroMQ'\n",
       "pillar                  Coloured Formatting for Columns\n",
       "pkgbuild                Find Tools Needed to Build R Packages\n",
       "pkgconfig               Private Configuration for 'R' Packages\n",
       "pkgload                 Simulate Package Installation and Attach\n",
       "praise                  Praise Users\n",
       "prettyunits             Pretty, Human Readable Formatting of Quantities\n",
       "processx                Execute and Control System Processes\n",
       "promises                Abstractions for Promise-Based Asynchronous\n",
       "                        Programming\n",
       "ps                      List, Query, Manipulate System Processes\n",
       "purrr                   Functional Programming Tools\n",
       "R6                      Encapsulated Classes with Reference Semantics\n",
       "rcmdcheck               Run 'R CMD check' from 'R' and Capture Results\n",
       "Rcpp                    Seamless R and C++ Integration\n",
       "rematch2                Tidy Output from Regular Expression Matching\n",
       "remotes                 R Package Installation from Remote\n",
       "                        Repositories, Including 'GitHub'\n",
       "repr                    Serializable Representations\n",
       "rex                     Friendly Regular Expressions\n",
       "rlang                   Functions for Base Types and Core R and\n",
       "                        'Tidyverse' Features\n",
       "roxygen2                In-Line Documentation for R\n",
       "rpart                   Recursive Partitioning and Regression Trees\n",
       "rprojroot               Finding Files in Project Subdirectories\n",
       "rstudioapi              Safely Access the RStudio API\n",
       "rversions               Query 'R' Versions, Including 'r-release' and\n",
       "                        'r-oldrel'\n",
       "sessioninfo             R Session Information\n",
       "spatial                 Functions for Kriging and Point Pattern\n",
       "                        Analysis\n",
       "splines                 Regression Spline Functions and Classes\n",
       "stats                   The R Stats Package\n",
       "stats4                  Statistical Functions using S4 Classes\n",
       "stringi                 Character String Processing Facilities\n",
       "stringr                 Simple, Consistent Wrappers for Common String\n",
       "                        Operations\n",
       "survival                Survival Analysis\n",
       "sys                     Powerful and Reliable Tools for Running System\n",
       "                        Commands in R\n",
       "tcltk                   Tcl/Tk Interface\n",
       "testthat                Unit Testing for R\n",
       "tibble                  Simple Data Frames\n",
       "tools                   Tools for Package Development\n",
       "usethis                 Automate Package and Project Setup\n",
       "utf8                    Unicode Text Processing\n",
       "utils                   The R Utils Package\n",
       "uuid                    Tools for Generating and Handling of UUIDs\n",
       "vctrs                   Vector Helpers\n",
       "whisker                 {{mustache}} for R, Logicless Templating\n",
       "withr                   Run Code 'With' Temporarily Modified Global\n",
       "                        State\n",
       "xfun                    Miscellaneous Functions by 'Yihui Xie'\n",
       "xml2                    Parse XML\n",
       "xopen                   Open System Files, 'URLs', Anything\n",
       "yaml                    Methods to Convert R Data to YAML and Back\n",
       "zeallot                 Multiple, Unpacking, and Destructuring\n",
       "                        Assignment"
      ]
     },
     "metadata": {},
     "output_type": "display_data"
    }
   ],
   "source": [
    "library()"
   ]
  },
  {
   "cell_type": "markdown",
   "metadata": {
    "Collapsed": "false"
   },
   "source": [
    "Notice, that `datasets` package is preinstalled, so you can play with some small datasets, for example `iris`, even without installing new packages."
   ]
  },
  {
   "cell_type": "markdown",
   "metadata": {
    "Collapsed": "false"
   },
   "source": [
    "## Datastructures"
   ]
  },
  {
   "cell_type": "markdown",
   "metadata": {
    "Collapsed": "false"
   },
   "source": [
    "### Vectors\n",
    "- the most important data suructure in R\n",
    "- scalar are vectors of L=1\n",
    "- 1-D order data structures: a vector will flatten other vectors when initialized\n",
    "- container vector rather than geometric vector\n",
    "- vector cycling for operations on vectors with different length\n",
    "- indexing starting with 1"
   ]
  },
  {
   "cell_type": "markdown",
   "metadata": {
    "Collapsed": "false"
   },
   "source": [
    "**Contain elements of the same type**  \n",
    " "
   ]
  },
  {
   "cell_type": "code",
   "execution_count": 48,
   "metadata": {
    "Collapsed": "false"
   },
   "outputs": [
    {
     "data": {
      "text/html": [
       "<style>\n",
       ".list-inline {list-style: none; margin:0; padding: 0}\n",
       ".list-inline>li {display: inline-block}\n",
       ".list-inline>li:not(:last-child)::after {content: \"\\00b7\"; padding: 0 .5ex}\n",
       "</style>\n",
       "<ol class=list-inline><li>1</li><li>2</li><li>3</li></ol>\n"
      ],
      "text/latex": [
       "\\begin{enumerate*}\n",
       "\\item 1\n",
       "\\item 2\n",
       "\\item 3\n",
       "\\end{enumerate*}\n"
      ],
      "text/markdown": [
       "1. 1\n",
       "2. 2\n",
       "3. 3\n",
       "\n",
       "\n"
      ],
      "text/plain": [
       "[1] 1 2 3"
      ]
     },
     "metadata": {},
     "output_type": "display_data"
    }
   ],
   "source": [
    "b <- c(1,2,3)\n",
    "b"
   ]
  },
  {
   "cell_type": "markdown",
   "metadata": {
    "Collapsed": "false"
   },
   "source": [
    "If the input has different types, elements will be casted to smth like String."
   ]
  },
  {
   "cell_type": "code",
   "execution_count": 42,
   "metadata": {
    "Collapsed": "false"
   },
   "outputs": [
    {
     "data": {
      "text/html": [
       "<style>\n",
       ".list-inline {list-style: none; margin:0; padding: 0}\n",
       ".list-inline>li {display: inline-block}\n",
       ".list-inline>li:not(:last-child)::after {content: \"\\00b7\"; padding: 0 .5ex}\n",
       "</style>\n",
       "<ol class=list-inline><li>'1'</li><li>'2'</li><li>'3'</li><li>'c'</li><li>'1'</li><li>'2'</li><li>'3'</li></ol>\n"
      ],
      "text/latex": [
       "\\begin{enumerate*}\n",
       "\\item '1'\n",
       "\\item '2'\n",
       "\\item '3'\n",
       "\\item 'c'\n",
       "\\item '1'\n",
       "\\item '2'\n",
       "\\item '3'\n",
       "\\end{enumerate*}\n"
      ],
      "text/markdown": [
       "1. '1'\n",
       "2. '2'\n",
       "3. '3'\n",
       "4. 'c'\n",
       "5. '1'\n",
       "6. '2'\n",
       "7. '3'\n",
       "\n",
       "\n"
      ],
      "text/plain": [
       "[1] \"1\" \"2\" \"3\" \"c\" \"1\" \"2\" \"3\""
      ]
     },
     "metadata": {},
     "output_type": "display_data"
    }
   ],
   "source": [
    "a <- c(1,2,3, \"c\", c(1,2,3))\n",
    "a"
   ]
  },
  {
   "cell_type": "code",
   "execution_count": 44,
   "metadata": {
    "Collapsed": "false"
   },
   "outputs": [
    {
     "data": {
      "text/html": [
       "<style>\n",
       ".list-inline {list-style: none; margin:0; padding: 0}\n",
       ".list-inline>li {display: inline-block}\n",
       ".list-inline>li:not(:last-child)::after {content: \"\\00b7\"; padding: 0 .5ex}\n",
       "</style>\n",
       "<ol class=list-inline><li>'1'</li><li>'2'</li></ol>\n"
      ],
      "text/latex": [
       "\\begin{enumerate*}\n",
       "\\item '1'\n",
       "\\item '2'\n",
       "\\end{enumerate*}\n"
      ],
      "text/markdown": [
       "1. '1'\n",
       "2. '2'\n",
       "\n",
       "\n"
      ],
      "text/plain": [
       "[1] \"1\" \"2\""
      ]
     },
     "metadata": {},
     "output_type": "display_data"
    }
   ],
   "source": [
    "a[1:2]"
   ]
  },
  {
   "cell_type": "markdown",
   "metadata": {
    "Collapsed": "false"
   },
   "source": [
    "In R, x[-n] returns a copy of x with the nth element removed."
   ]
  },
  {
   "cell_type": "code",
   "execution_count": 43,
   "metadata": {
    "Collapsed": "false"
   },
   "outputs": [
    {
     "data": {
      "text/html": [
       "<style>\n",
       ".list-inline {list-style: none; margin:0; padding: 0}\n",
       ".list-inline>li {display: inline-block}\n",
       ".list-inline>li:not(:last-child)::after {content: \"\\00b7\"; padding: 0 .5ex}\n",
       "</style>\n",
       "<ol class=list-inline><li>'1'</li><li>'3'</li><li>'c'</li><li>'1'</li><li>'2'</li><li>'3'</li></ol>\n"
      ],
      "text/latex": [
       "\\begin{enumerate*}\n",
       "\\item '1'\n",
       "\\item '3'\n",
       "\\item 'c'\n",
       "\\item '1'\n",
       "\\item '2'\n",
       "\\item '3'\n",
       "\\end{enumerate*}\n"
      ],
      "text/markdown": [
       "1. '1'\n",
       "2. '3'\n",
       "3. 'c'\n",
       "4. '1'\n",
       "5. '2'\n",
       "6. '3'\n",
       "\n",
       "\n"
      ],
      "text/plain": [
       "[1] \"1\" \"3\" \"c\" \"1\" \"2\" \"3\""
      ]
     },
     "metadata": {},
     "output_type": "display_data"
    }
   ],
   "source": [
    "a[-2]"
   ]
  },
  {
   "cell_type": "markdown",
   "metadata": {
    "Collapsed": "false"
   },
   "source": [
    "### Lists\n",
    "Can contain different types of objects including other lists, vectors, functions etc."
   ]
  },
  {
   "cell_type": "code",
   "execution_count": 135,
   "metadata": {
    "Collapsed": "false"
   },
   "outputs": [
    {
     "data": {
      "text/html": [
       "<ol>\n",
       "\t<li><style>\n",
       ".list-inline {list-style: none; margin:0; padding: 0}\n",
       ".list-inline>li {display: inline-block}\n",
       ".list-inline>li:not(:last-child)::after {content: \"\\00b7\"; padding: 0 .5ex}\n",
       "</style>\n",
       "<ol class=list-inline><li>2</li><li>5</li><li>3</li></ol>\n",
       "</li>\n",
       "\t<li>21.3</li>\n",
       "\t<li><pre class=language-r><code>.Primitive(\"sin\")</code></pre></li>\n",
       "</ol>\n"
      ],
      "text/latex": [
       "\\begin{enumerate}\n",
       "\\item \\begin{enumerate*}\n",
       "\\item 2\n",
       "\\item 5\n",
       "\\item 3\n",
       "\\end{enumerate*}\n",
       "\n",
       "\\item 21.3\n",
       "\\item \\begin{minted}{r}\n",
       ".Primitive(\"sin\")\n",
       "\\end{minted}\n",
       "\\end{enumerate}\n"
      ],
      "text/markdown": [
       "1. 1. 2\n",
       "2. 5\n",
       "3. 3\n",
       "\n",
       "\n",
       "\n",
       "2. 21.3\n",
       "3. ```r\n",
       ".Primitive(\"sin\")\n",
       "```\n",
       "\n",
       "\n"
      ],
      "text/plain": [
       "[[1]]\n",
       "[1] 2 5 3\n",
       "\n",
       "[[2]]\n",
       "[1] 21.3\n",
       "\n",
       "[[3]]\n",
       "function (x)  .Primitive(\"sin\")\n"
      ]
     },
     "metadata": {},
     "output_type": "display_data"
    }
   ],
   "source": [
    "list1 = list(c(2,5,3),21.3,sin)\n",
    "list1"
   ]
  },
  {
   "cell_type": "code",
   "execution_count": 138,
   "metadata": {
    "Collapsed": "false"
   },
   "outputs": [
    {
     "data": {
      "text/html": [
       "<ol>\n",
       "\t<li><style>\n",
       ".list-inline {list-style: none; margin:0; padding: 0}\n",
       ".list-inline>li {display: inline-block}\n",
       ".list-inline>li:not(:last-child)::after {content: \"\\00b7\"; padding: 0 .5ex}\n",
       "</style>\n",
       "<ol class=list-inline><li>2</li><li>5</li><li>3</li></ol>\n",
       "</li>\n",
       "</ol>\n"
      ],
      "text/latex": [
       "\\begin{enumerate}\n",
       "\\item \\begin{enumerate*}\n",
       "\\item 2\n",
       "\\item 5\n",
       "\\item 3\n",
       "\\end{enumerate*}\n",
       "\n",
       "\\end{enumerate}\n"
      ],
      "text/markdown": [
       "1. 1. 2\n",
       "2. 5\n",
       "3. 3\n",
       "\n",
       "\n",
       "\n",
       "\n",
       "\n"
      ],
      "text/plain": [
       "[[1]]\n",
       "[1] 2 5 3\n"
      ]
     },
     "metadata": {},
     "output_type": "display_data"
    }
   ],
   "source": [
    "# a smaller list\n",
    "list1[1]"
   ]
  },
  {
   "cell_type": "code",
   "execution_count": 139,
   "metadata": {
    "Collapsed": "false"
   },
   "outputs": [
    {
     "data": {
      "text/html": [
       "<style>\n",
       ".list-inline {list-style: none; margin:0; padding: 0}\n",
       ".list-inline>li {display: inline-block}\n",
       ".list-inline>li:not(:last-child)::after {content: \"\\00b7\"; padding: 0 .5ex}\n",
       "</style>\n",
       "<ol class=list-inline><li>2</li><li>5</li><li>3</li></ol>\n"
      ],
      "text/latex": [
       "\\begin{enumerate*}\n",
       "\\item 2\n",
       "\\item 5\n",
       "\\item 3\n",
       "\\end{enumerate*}\n"
      ],
      "text/markdown": [
       "1. 2\n",
       "2. 5\n",
       "3. 3\n",
       "\n",
       "\n"
      ],
      "text/plain": [
       "[1] 2 5 3"
      ]
     },
     "metadata": {},
     "output_type": "display_data"
    }
   ],
   "source": [
    "# the element itself\n",
    "list1[[1]]"
   ]
  },
  {
   "cell_type": "markdown",
   "metadata": {
    "Collapsed": "false"
   },
   "source": [
    "### Sequences"
   ]
  },
  {
   "cell_type": "code",
   "execution_count": 45,
   "metadata": {
    "Collapsed": "false"
   },
   "outputs": [
    {
     "data": {
      "text/html": [
       "<style>\n",
       ".list-inline {list-style: none; margin:0; padding: 0}\n",
       ".list-inline>li {display: inline-block}\n",
       ".list-inline>li:not(:last-child)::after {content: \"\\00b7\"; padding: 0 .5ex}\n",
       "</style>\n",
       "<ol class=list-inline><li>1</li><li>4</li><li>7</li><li>10</li></ol>\n"
      ],
      "text/latex": [
       "\\begin{enumerate*}\n",
       "\\item 1\n",
       "\\item 4\n",
       "\\item 7\n",
       "\\item 10\n",
       "\\end{enumerate*}\n"
      ],
      "text/markdown": [
       "1. 1\n",
       "2. 4\n",
       "3. 7\n",
       "4. 10\n",
       "\n",
       "\n"
      ],
      "text/plain": [
       "[1]  1  4  7 10"
      ]
     },
     "metadata": {},
     "output_type": "display_data"
    }
   ],
   "source": [
    "seq(1,10,3)"
   ]
  },
  {
   "cell_type": "markdown",
   "metadata": {
    "Collapsed": "false"
   },
   "source": [
    "The notation a:b is an abbreviation for seq(a, b, 1)."
   ]
  },
  {
   "cell_type": "markdown",
   "metadata": {
    "Collapsed": "false"
   },
   "source": [
    "### Matrices and arrays\n",
    "- `array` datatype. Matrix is just a 2-D array.\n",
    "- Matrices are filled in column-major order. This can be changed with `byrow = TRUE` in `matrix` function.\n",
    "- the access works as usual with the `[row, col]`"
   ]
  },
  {
   "cell_type": "code",
   "execution_count": 60,
   "metadata": {
    "Collapsed": "false"
   },
   "outputs": [
    {
     "data": {
      "text/html": [
       "<table>\n",
       "<caption>A matrix: 2 × 3 of type dbl</caption>\n",
       "<tbody>\n",
       "\t<tr><td>1</td><td>3</td><td>5</td></tr>\n",
       "\t<tr><td>2</td><td>4</td><td>6</td></tr>\n",
       "</tbody>\n",
       "</table>\n"
      ],
      "text/latex": [
       "A matrix: 2 × 3 of type dbl\n",
       "\\begin{tabular}{lll}\n",
       "\t 1 & 3 & 5\\\\\n",
       "\t 2 & 4 & 6\\\\\n",
       "\\end{tabular}\n"
      ],
      "text/markdown": [
       "\n",
       "A matrix: 2 × 3 of type dbl\n",
       "\n",
       "| 1 | 3 | 5 |\n",
       "| 2 | 4 | 6 |\n",
       "\n"
      ],
      "text/plain": [
       "     [,1] [,2] [,3]\n",
       "[1,] 1    3    5   \n",
       "[2,] 2    4    6   "
      ]
     },
     "metadata": {},
     "output_type": "display_data"
    }
   ],
   "source": [
    "m <- array( c(1,2,3,4,5,6), dim=c(2,3) )\n",
    "m"
   ]
  },
  {
   "cell_type": "code",
   "execution_count": 77,
   "metadata": {
    "Collapsed": "false"
   },
   "outputs": [
    {
     "data": {
      "text/html": [
       "<style>\n",
       ".list-inline {list-style: none; margin:0; padding: 0}\n",
       ".list-inline>li {display: inline-block}\n",
       ".list-inline>li:not(:last-child)::after {content: \"\\00b7\"; padding: 0 .5ex}\n",
       "</style>\n",
       "<ol class=list-inline><li>1</li><li>3</li><li>5</li></ol>\n"
      ],
      "text/latex": [
       "\\begin{enumerate*}\n",
       "\\item 1\n",
       "\\item 3\n",
       "\\item 5\n",
       "\\end{enumerate*}\n"
      ],
      "text/markdown": [
       "1. 1\n",
       "2. 3\n",
       "3. 5\n",
       "\n",
       "\n"
      ],
      "text/plain": [
       "[1] 1 3 5"
      ]
     },
     "metadata": {},
     "output_type": "display_data"
    }
   ],
   "source": [
    "m[1,]"
   ]
  },
  {
   "cell_type": "code",
   "execution_count": 78,
   "metadata": {
    "Collapsed": "false"
   },
   "outputs": [
    {
     "data": {
      "text/html": [
       "<style>\n",
       ".list-inline {list-style: none; margin:0; padding: 0}\n",
       ".list-inline>li {display: inline-block}\n",
       ".list-inline>li:not(:last-child)::after {content: \"\\00b7\"; padding: 0 .5ex}\n",
       "</style>\n",
       "<ol class=list-inline><li>1</li><li>2</li></ol>\n"
      ],
      "text/latex": [
       "\\begin{enumerate*}\n",
       "\\item 1\n",
       "\\item 2\n",
       "\\end{enumerate*}\n"
      ],
      "text/markdown": [
       "1. 1\n",
       "2. 2\n",
       "\n",
       "\n"
      ],
      "text/plain": [
       "[1] 1 2"
      ]
     },
     "metadata": {},
     "output_type": "display_data"
    }
   ],
   "source": [
    "m[,1]"
   ]
  },
  {
   "cell_type": "code",
   "execution_count": 61,
   "metadata": {
    "Collapsed": "false"
   },
   "outputs": [
    {
     "data": {
      "text/html": [
       "<table>\n",
       "<caption>A matrix: 2 × 3 of type dbl</caption>\n",
       "<tbody>\n",
       "\t<tr><td>1</td><td>2</td><td>3</td></tr>\n",
       "\t<tr><td>4</td><td>5</td><td>6</td></tr>\n",
       "</tbody>\n",
       "</table>\n"
      ],
      "text/latex": [
       "A matrix: 2 × 3 of type dbl\n",
       "\\begin{tabular}{lll}\n",
       "\t 1 & 2 & 3\\\\\n",
       "\t 4 & 5 & 6\\\\\n",
       "\\end{tabular}\n"
      ],
      "text/markdown": [
       "\n",
       "A matrix: 2 × 3 of type dbl\n",
       "\n",
       "| 1 | 2 | 3 |\n",
       "| 4 | 5 | 6 |\n",
       "\n"
      ],
      "text/plain": [
       "     [,1] [,2] [,3]\n",
       "[1,] 1    2    3   \n",
       "[2,] 4    5    6   "
      ]
     },
     "metadata": {},
     "output_type": "display_data"
    }
   ],
   "source": [
    "n <- matrix(c(1,2,3,4,5,6), nrow=2, ncol=3, byrow = TRUE)\n",
    "n"
   ]
  },
  {
   "cell_type": "code",
   "execution_count": 76,
   "metadata": {
    "Collapsed": "false"
   },
   "outputs": [
    {
     "data": {
      "text/html": [
       "<style>\n",
       ".list-inline {list-style: none; margin:0; padding: 0}\n",
       ".list-inline>li {display: inline-block}\n",
       ".list-inline>li:not(:last-child)::after {content: \"\\00b7\"; padding: 0 .5ex}\n",
       "</style>\n",
       "<ol class=list-inline><li>2</li><li>4</li><li>6</li></ol>\n"
      ],
      "text/latex": [
       "\\begin{enumerate*}\n",
       "\\item 2\n",
       "\\item 4\n",
       "\\item 6\n",
       "\\end{enumerate*}\n"
      ],
      "text/markdown": [
       "1. 2\n",
       "2. 4\n",
       "3. 6\n",
       "\n",
       "\n"
      ],
      "text/plain": [
       "[1] 2 4 6"
      ]
     },
     "metadata": {},
     "output_type": "display_data"
    }
   ],
   "source": [
    "m[2,]"
   ]
  },
  {
   "cell_type": "markdown",
   "metadata": {
    "Collapsed": "false"
   },
   "source": [
    "### DataFrames\n",
    "similar to pandas DataFrames"
   ]
  },
  {
   "cell_type": "code",
   "execution_count": 80,
   "metadata": {
    "Collapsed": "false"
   },
   "outputs": [
    {
     "name": "stdout",
     "output_type": "stream",
     "text": [
      "  gender height weight Age\n",
      "1   Male  152.0     81  42\n",
      "2   Male  171.5     93  38\n",
      "3 Female  165.0     78  26\n"
     ]
    }
   ],
   "source": [
    "BMI <- \tdata.frame(\n",
    "   gender = c(\"Male\", \"Male\",\"Female\"), \n",
    "   height = c(152, 171.5, 165), \n",
    "   weight = c(81,93, 78),\n",
    "   Age = c(42,38,26)\n",
    ")\n",
    "print(BMI)"
   ]
  },
  {
   "cell_type": "code",
   "execution_count": 126,
   "metadata": {
    "Collapsed": "false"
   },
   "outputs": [
    {
     "data": {
      "text/html": [
       "<style>\n",
       ".list-inline {list-style: none; margin:0; padding: 0}\n",
       ".list-inline>li {display: inline-block}\n",
       ".list-inline>li:not(:last-child)::after {content: \"\\00b7\"; padding: 0 .5ex}\n",
       "</style>\n",
       "<ol class=list-inline><li>81</li><li>93</li><li>78</li></ol>\n"
      ],
      "text/latex": [
       "\\begin{enumerate*}\n",
       "\\item 81\n",
       "\\item 93\n",
       "\\item 78\n",
       "\\end{enumerate*}\n"
      ],
      "text/markdown": [
       "1. 81\n",
       "2. 93\n",
       "3. 78\n",
       "\n",
       "\n"
      ],
      "text/plain": [
       "[1] 81 93 78"
      ]
     },
     "metadata": {},
     "output_type": "display_data"
    }
   ],
   "source": [
    "BMI$weight"
   ]
  },
  {
   "cell_type": "code",
   "execution_count": 129,
   "metadata": {
    "Collapsed": "false"
   },
   "outputs": [
    {
     "data": {
      "text/html": [
       "<style>\n",
       ".list-inline {list-style: none; margin:0; padding: 0}\n",
       ".list-inline>li {display: inline-block}\n",
       ".list-inline>li:not(:last-child)::after {content: \"\\00b7\"; padding: 0 .5ex}\n",
       "</style>\n",
       "<ol class=list-inline><li>81</li><li>93</li></ol>\n"
      ],
      "text/latex": [
       "\\begin{enumerate*}\n",
       "\\item 81\n",
       "\\item 93\n",
       "\\end{enumerate*}\n"
      ],
      "text/markdown": [
       "1. 81\n",
       "2. 93\n",
       "\n",
       "\n"
      ],
      "text/plain": [
       "[1] 81 93"
      ]
     },
     "metadata": {},
     "output_type": "display_data"
    }
   ],
   "source": [
    "BMI$weight[1:2]"
   ]
  },
  {
   "cell_type": "code",
   "execution_count": 128,
   "metadata": {
    "Collapsed": "false"
   },
   "outputs": [
    {
     "data": {
      "text/html": [
       "<style>\n",
       ".list-inline {list-style: none; margin:0; padding: 0}\n",
       ".list-inline>li {display: inline-block}\n",
       ".list-inline>li:not(:last-child)::after {content: \"\\00b7\"; padding: 0 .5ex}\n",
       "</style>\n",
       "<ol class=list-inline><li>81</li><li>93</li></ol>\n"
      ],
      "text/latex": [
       "\\begin{enumerate*}\n",
       "\\item 81\n",
       "\\item 93\n",
       "\\end{enumerate*}\n"
      ],
      "text/markdown": [
       "1. 81\n",
       "2. 93\n",
       "\n",
       "\n"
      ],
      "text/plain": [
       "[1] 81 93"
      ]
     },
     "metadata": {},
     "output_type": "display_data"
    }
   ],
   "source": [
    "BMI[1:2, \"weight\"]"
   ]
  },
  {
   "cell_type": "code",
   "execution_count": 130,
   "metadata": {
    "Collapsed": "false"
   },
   "outputs": [
    {
     "data": {
      "text/html": [
       "<table>\n",
       "<caption>A data.frame: 2 × 2</caption>\n",
       "<thead>\n",
       "\t<tr><th></th><th scope=col>height</th><th scope=col>Age</th></tr>\n",
       "\t<tr><th></th><th scope=col>&lt;dbl&gt;</th><th scope=col>&lt;dbl&gt;</th></tr>\n",
       "</thead>\n",
       "<tbody>\n",
       "\t<tr><th scope=row>1</th><td>152.0</td><td>42</td></tr>\n",
       "\t<tr><th scope=row>2</th><td>171.5</td><td>38</td></tr>\n",
       "</tbody>\n",
       "</table>\n"
      ],
      "text/latex": [
       "A data.frame: 2 × 2\n",
       "\\begin{tabular}{r|ll}\n",
       "  & height & Age\\\\\n",
       "  & <dbl> & <dbl>\\\\\n",
       "\\hline\n",
       "\t1 & 152.0 & 42\\\\\n",
       "\t2 & 171.5 & 38\\\\\n",
       "\\end{tabular}\n"
      ],
      "text/markdown": [
       "\n",
       "A data.frame: 2 × 2\n",
       "\n",
       "| <!--/--> | height &lt;dbl&gt; | Age &lt;dbl&gt; |\n",
       "|---|---|---|\n",
       "| 1 | 152.0 | 42 |\n",
       "| 2 | 171.5 | 38 |\n",
       "\n"
      ],
      "text/plain": [
       "  height Age\n",
       "1 152.0  42 \n",
       "2 171.5  38 "
      ]
     },
     "metadata": {},
     "output_type": "display_data"
    }
   ],
   "source": [
    "BMI[1:2, c(FALSE, TRUE, FALSE, TRUE)]"
   ]
  },
  {
   "cell_type": "markdown",
   "metadata": {
    "Collapsed": "false"
   },
   "source": [
    "### Functions"
   ]
  },
  {
   "cell_type": "code",
   "execution_count": 71,
   "metadata": {
    "Collapsed": "false"
   },
   "outputs": [],
   "source": [
    "f <- function(a, b)\n",
    "{\n",
    "    return (a+b)\n",
    "}"
   ]
  },
  {
   "cell_type": "code",
   "execution_count": 72,
   "metadata": {
    "Collapsed": "false"
   },
   "outputs": [
    {
     "data": {
      "text/html": [
       "5"
      ],
      "text/latex": [
       "5"
      ],
      "text/markdown": [
       "5"
      ],
      "text/plain": [
       "[1] 5"
      ]
     },
     "metadata": {},
     "output_type": "display_data"
    }
   ],
   "source": [
    "f(2,3)"
   ]
  },
  {
   "cell_type": "markdown",
   "metadata": {
    "Collapsed": "false"
   },
   "source": [
    "## Lambdas"
   ]
  },
  {
   "cell_type": "code",
   "execution_count": 2,
   "metadata": {
    "Collapsed": "false"
   },
   "outputs": [
    {
     "name": "stdout",
     "output_type": "stream",
     "text": [
      "[1] TRUE\n",
      "[1] FALSE\n"
     ]
    }
   ],
   "source": [
    "l1 <- (function(x,y) (x + 1) * y^3 > 0.3 )(1,3)\n",
    "print(l1)\n",
    "condition <- function(x,y) (x + 1) * y^3 > 0.3\n",
    "l2 <- condition(1,-3)\n",
    "print(l2)"
   ]
  },
  {
   "cell_type": "markdown",
   "metadata": {
    "Collapsed": "false"
   },
   "source": [
    "### Factors\n",
    "factors are used to work with categorical variables like \"male\"/\"female\", \"north\"/\"east/\"south\"/\"west\" etc"
   ]
  },
  {
   "cell_type": "code",
   "execution_count": 119,
   "metadata": {
    "Collapsed": "false"
   },
   "outputs": [
    {
     "name": "stdout",
     "output_type": "stream",
     "text": [
      " [1] \"East\"  \"West\"  \"East\"  \"North\" \"North\" \"East\"  \"West\"  \"West\"  \"West\" \n",
      "[10] \"East\"  \"North\"\n",
      "[1] FALSE\n",
      " [1] East  West  East  North North East  West  West  West  East  North\n",
      "Levels: East North West\n",
      "[1] TRUE\n"
     ]
    }
   ],
   "source": [
    "# Create a vector as input.\n",
    "data <- c(\"East\",\"West\",\"East\",\"North\",\"North\",\"East\",\"West\",\"West\",\"West\",\"East\",\"North\")\n",
    "\n",
    "print(data)\n",
    "print(is.factor(data))\n",
    "\n",
    "# Apply the factor function.\n",
    "factor_data <- factor(data)\n",
    "\n",
    "print(factor_data)\n",
    "print(is.factor(factor_data))\n"
   ]
  },
  {
   "cell_type": "markdown",
   "metadata": {
    "Collapsed": "false"
   },
   "source": [
    "## **Note:** DF transforms all text data into factor type."
   ]
  },
  {
   "cell_type": "markdown",
   "metadata": {
    "Collapsed": "false"
   },
   "source": [
    "# Misc\n",
    "- `args(fctn)` displays functions arguments\n",
    "- `?fctn` and `help(fctn)` display help on any function fctn, as in Python.\n",
    "- To invoke complex arithmetic, add 0i to a number. For example, sqrt(-1) returns NaN, but sqrt(-1 + 0i) returns 0 + 1i.\n",
    "- sessionInfo() prints the R version, OS, packages loaded, etc.\n",
    "- `ls()` shows which objects are defined.\n",
    "- rm(list=ls()) clears all defined objects.\n",
    "- dev.new() opens a new plotting window without overwriting the previous one.\n",
    "- The function sort() does not change its argument.\n",
    "- **Distribution function prefixes d, p, q, r stand for density (PDF), probability (CDF), quantile (CDF-1), and random sample. For example, dnorm is the density function of a normal random variable and rnorm generates a sample from a normal random variable. The corresponding functions for a uniform random variable are dunif and runif.**"
   ]
  },
  {
   "cell_type": "markdown",
   "metadata": {
    "Collapsed": "false"
   },
   "source": [
    "## Naming\n",
    "- can use underscores, but not at the start\n",
    "- can use dot and start with a dot  \n",
    "Examples:\n",
    "- `var_name2.`\n",
    "- `cat.1`\n",
    "- `cat.2`\n",
    "- `cat.3`"
   ]
  },
  {
   "cell_type": "markdown",
   "metadata": {
    "Collapsed": "false"
   },
   "source": [
    "# More"
   ]
  },
  {
   "cell_type": "code",
   "execution_count": 85,
   "metadata": {
    "Collapsed": "false"
   },
   "outputs": [
    {
     "name": "stdout",
     "output_type": "stream",
     "text": [
      "1 c \n",
      "2"
     ]
    }
   ],
   "source": [
    "# printing several statements\n",
    "cat(1,\"c\", \"\\n\") \n",
    "cat(2)"
   ]
  },
  {
   "cell_type": "code",
   "execution_count": 86,
   "metadata": {
    "Collapsed": "false"
   },
   "outputs": [
    {
     "data": {
      "text/html": [
       "'numeric'"
      ],
      "text/latex": [
       "'numeric'"
      ],
      "text/markdown": [
       "'numeric'"
      ],
      "text/plain": [
       "[1] \"numeric\""
      ]
     },
     "metadata": {},
     "output_type": "display_data"
    }
   ],
   "source": [
    "class(c(2,3))"
   ]
  },
  {
   "cell_type": "code",
   "execution_count": 124,
   "metadata": {
    "Collapsed": "false"
   },
   "outputs": [
    {
     "data": {
      "text/html": [
       "'double'"
      ],
      "text/latex": [
       "'double'"
      ],
      "text/markdown": [
       "'double'"
      ],
      "text/plain": [
       "[1] \"double\""
      ]
     },
     "metadata": {},
     "output_type": "display_data"
    }
   ],
   "source": [
    "typeof(c(2,3))"
   ]
  },
  {
   "cell_type": "code",
   "execution_count": 87,
   "metadata": {
    "Collapsed": "false"
   },
   "outputs": [
    {
     "data": {
      "text/html": [
       "'numeric'"
      ],
      "text/latex": [
       "'numeric'"
      ],
      "text/markdown": [
       "'numeric'"
      ],
      "text/plain": [
       "[1] \"numeric\""
      ]
     },
     "metadata": {},
     "output_type": "display_data"
    }
   ],
   "source": [
    "class(2)"
   ]
  },
  {
   "cell_type": "code",
   "execution_count": 91,
   "metadata": {
    "Collapsed": "false"
   },
   "outputs": [
    {
     "data": {
      "text/html": [
       "'list'"
      ],
      "text/latex": [
       "'list'"
      ],
      "text/markdown": [
       "'list'"
      ],
      "text/plain": [
       "[1] \"list\""
      ]
     },
     "metadata": {},
     "output_type": "display_data"
    }
   ],
   "source": [
    "class(list(1,2))"
   ]
  },
  {
   "cell_type": "code",
   "execution_count": 125,
   "metadata": {
    "Collapsed": "false"
   },
   "outputs": [
    {
     "data": {
      "text/html": [
       "'list'"
      ],
      "text/latex": [
       "'list'"
      ],
      "text/markdown": [
       "'list'"
      ],
      "text/plain": [
       "[1] \"list\""
      ]
     },
     "metadata": {},
     "output_type": "display_data"
    }
   ],
   "source": [
    "typeof(list(1,2))"
   ]
  },
  {
   "cell_type": "code",
   "execution_count": 92,
   "metadata": {
    "Collapsed": "false"
   },
   "outputs": [
    {
     "data": {
      "text/html": [
       "'logical'"
      ],
      "text/latex": [
       "'logical'"
      ],
      "text/markdown": [
       "'logical'"
      ],
      "text/plain": [
       "[1] \"logical\""
      ]
     },
     "metadata": {},
     "output_type": "display_data"
    }
   ],
   "source": [
    "class(TRUE)"
   ]
  },
  {
   "cell_type": "code",
   "execution_count": 94,
   "metadata": {
    "Collapsed": "false"
   },
   "outputs": [
    {
     "name": "stdout",
     "output_type": "stream",
     "text": [
      " [1] \"a\"        \"b\"        \"BMI\"      \"f\"        \"ip\"       \"m\"       \n",
      " [7] \"myString\" \"n\"        \"var.1\"    \"var.2\"    \"var.3\"   \n",
      "[1] \"var.1\" \"var.2\" \"var.3\"\n",
      "[1] \"var.1\" \"var.3\"\n"
     ]
    }
   ],
   "source": [
    "var.1 = 1\n",
    "var.2 = 'b'\n",
    "var.3 = list(1,2)\n",
    "\n",
    "# list all variables\n",
    "print(ls())\n",
    "\n",
    "# list variables with `var` in their name\n",
    "print(ls(pattern = \"var\"))  \n",
    "rm(var.2)\n",
    "print(ls(pattern = \"var\"))  "
   ]
  },
  {
   "cell_type": "markdown",
   "metadata": {
    "Collapsed": "false"
   },
   "source": [
    "## Some useful operations\n",
    "- `%in%` checks if an element is inside of the vector, array, list\n",
    "- `%*%` does matrix multiplication\n",
    "- `t()` tranposes a matrix"
   ]
  },
  {
   "cell_type": "code",
   "execution_count": 95,
   "metadata": {
    "Collapsed": "false"
   },
   "outputs": [
    {
     "name": "stdout",
     "output_type": "stream",
     "text": [
      "[1] TRUE\n",
      "[1] FALSE\n"
     ]
    }
   ],
   "source": [
    "# %in% operator\n",
    "v1 <- 8\n",
    "v2 <- 12\n",
    "t <- 1:10\n",
    "print(v1 %in% t)\n",
    "print(v2 %in% t)"
   ]
  },
  {
   "cell_type": "code",
   "execution_count": 98,
   "metadata": {
    "Collapsed": "false"
   },
   "outputs": [
    {
     "name": "stdout",
     "output_type": "stream",
     "text": [
      "     [,1] [,2] [,3]\n",
      "[1,]    2    6    5\n",
      "[2,]    1   10    4\n",
      "     [,1] [,2]\n",
      "[1,]    2    1\n",
      "[2,]    6   10\n",
      "[3,]    5    4\n",
      "     [,1] [,2]\n",
      "[1,]   65   82\n",
      "[2,]   82  117\n"
     ]
    }
   ],
   "source": [
    "M = matrix( c(2,6,5,1,10,4), nrow = 2,ncol = 3,byrow = TRUE)\n",
    "MM = M %*% t(M)\n",
    "print(M)\n",
    "print(t(M))\n",
    "print(MM)"
   ]
  },
  {
   "cell_type": "code",
   "execution_count": 101,
   "metadata": {
    "Collapsed": "false"
   },
   "outputs": [
    {
     "data": {
      "text/html": [
       "TRUE"
      ],
      "text/latex": [
       "TRUE"
      ],
      "text/markdown": [
       "TRUE"
      ],
      "text/plain": [
       "[1] TRUE"
      ]
     },
     "metadata": {},
     "output_type": "display_data"
    }
   ],
   "source": [
    "2 %in% list(2,3, 'c')"
   ]
  },
  {
   "cell_type": "code",
   "execution_count": 107,
   "metadata": {
    "Collapsed": "false"
   },
   "outputs": [
    {
     "name": "stdout",
     "output_type": "stream",
     "text": [
      " [1] \"A\" \"B\" \"C\" \"D\" \"E\" \"F\" \"G\" \"H\" \"I\" \"J\" \"K\" \"L\" \"M\" \"N\" \"O\" \"P\" \"Q\" \"R\" \"S\"\n",
      "[20] \"T\" \"U\" \"V\" \"W\" \"X\" \"Y\" \"Z\"\n",
      "[1] \"B\"\n",
      "[1] \"C\"\n",
      "[1] \"D\"\n",
      "[1] \"E\"\n"
     ]
    }
   ],
   "source": [
    "print(LETTERS)\n",
    "for (i in LETTERS[2:5]) {\n",
    "    print(i)\n",
    "}"
   ]
  },
  {
   "cell_type": "code",
   "execution_count": 108,
   "metadata": {
    "Collapsed": "false"
   },
   "outputs": [
    {
     "name": "stdout",
     "output_type": "stream",
     "text": [
      "[1] -3\n",
      "[1] -2\n",
      "[1] -1\n",
      "[1] 0\n",
      "[1] 1\n"
     ]
    }
   ],
   "source": [
    "for (i in -3:1) {\n",
    "    print(i)\n",
    "}"
   ]
  },
  {
   "cell_type": "markdown",
   "metadata": {
    "Collapsed": "false"
   },
   "source": [
    "## How Matrices work"
   ]
  },
  {
   "cell_type": "code",
   "execution_count": 110,
   "metadata": {
    "Collapsed": "false"
   },
   "outputs": [
    {
     "name": "stdout",
     "output_type": "stream",
     "text": [
      "     [,1] [,2] [,3]\n",
      "[1,]    3    4    5\n",
      "[2,]    6    7    8\n",
      "[3,]    9   10   11\n",
      "[4,]   12   13   14\n",
      "     [,1] [,2] [,3]\n",
      "[1,]    3    7   11\n",
      "[2,]    4    8   12\n",
      "[3,]    5    9   13\n",
      "[4,]    6   10   14\n",
      "     col1 col2 col3\n",
      "row1    3    4    5\n",
      "row2    6    7    8\n",
      "row3    9   10   11\n",
      "row4   12   13   14\n"
     ]
    }
   ],
   "source": [
    "# Elements are arranged sequentially by row.\n",
    "M <- matrix(c(3:14), nrow = 4, byrow = TRUE)\n",
    "print(M)\n",
    "\n",
    "# Elements are arranged sequentially by column.\n",
    "N <- matrix(c(3:14), nrow = 4, byrow = FALSE)\n",
    "print(N)\n",
    "\n",
    "# Define the column and row names.\n",
    "rownames = c(\"row1\", \"row2\", \"row3\", \"row4\")\n",
    "colnames = c(\"col1\", \"col2\", \"col3\")\n",
    "\n",
    "P <- matrix(c(3:14), nrow = 4, byrow = TRUE, dimnames = list(rownames, colnames))\n",
    "print(P)"
   ]
  },
  {
   "cell_type": "code",
   "execution_count": 113,
   "metadata": {
    "Collapsed": "false"
   },
   "outputs": [
    {
     "data": {
      "text/html": [
       "<table>\n",
       "<caption>A matrix: 2 × 3 of type int</caption>\n",
       "<tbody>\n",
       "\t<tr><td>4</td><td>8</td><td>12</td></tr>\n",
       "\t<tr><td>5</td><td>9</td><td>13</td></tr>\n",
       "</tbody>\n",
       "</table>\n"
      ],
      "text/latex": [
       "A matrix: 2 × 3 of type int\n",
       "\\begin{tabular}{lll}\n",
       "\t 4 & 8 & 12\\\\\n",
       "\t 5 & 9 & 13\\\\\n",
       "\\end{tabular}\n"
      ],
      "text/markdown": [
       "\n",
       "A matrix: 2 × 3 of type int\n",
       "\n",
       "| 4 | 8 | 12 |\n",
       "| 5 | 9 | 13 |\n",
       "\n"
      ],
      "text/plain": [
       "     [,1] [,2] [,3]\n",
       "[1,] 4    8    12  \n",
       "[2,] 5    9    13  "
      ]
     },
     "metadata": {},
     "output_type": "display_data"
    }
   ],
   "source": [
    "N[2:3,]"
   ]
  },
  {
   "cell_type": "code",
   "execution_count": 115,
   "metadata": {
    "Collapsed": "false"
   },
   "outputs": [
    {
     "data": {
      "text/html": [
       "<table>\n",
       "<caption>A matrix: 2 × 2 of type int</caption>\n",
       "<thead>\n",
       "\t<tr><th></th><th scope=col>col1</th><th scope=col>col2</th></tr>\n",
       "</thead>\n",
       "<tbody>\n",
       "\t<tr><th scope=row>row2</th><td>6</td><td> 7</td></tr>\n",
       "\t<tr><th scope=row>row3</th><td>9</td><td>10</td></tr>\n",
       "</tbody>\n",
       "</table>\n"
      ],
      "text/latex": [
       "A matrix: 2 × 2 of type int\n",
       "\\begin{tabular}{r|ll}\n",
       "  & col1 & col2\\\\\n",
       "\\hline\n",
       "\trow2 & 6 &  7\\\\\n",
       "\trow3 & 9 & 10\\\\\n",
       "\\end{tabular}\n"
      ],
      "text/markdown": [
       "\n",
       "A matrix: 2 × 2 of type int\n",
       "\n",
       "| <!--/--> | col1 | col2 |\n",
       "|---|---|---|\n",
       "| row2 | 6 |  7 |\n",
       "| row3 | 9 | 10 |\n",
       "\n"
      ],
      "text/plain": [
       "     col1 col2\n",
       "row2 6     7  \n",
       "row3 9    10  "
      ]
     },
     "metadata": {},
     "output_type": "display_data"
    }
   ],
   "source": [
    "P[2:3,-3]"
   ]
  },
  {
   "cell_type": "markdown",
   "metadata": {
    "Collapsed": "false"
   },
   "source": [
    "## Most operations on vectors, matrices, arrays etc are elementwise\n",
    "- *, /, +, -"
   ]
  },
  {
   "cell_type": "code",
   "execution_count": null,
   "metadata": {
    "Collapsed": "false"
   },
   "outputs": [],
   "source": []
  }
 ],
 "metadata": {
  "kernelspec": {
   "display_name": "R",
   "language": "R",
   "name": "ir"
  },
  "language_info": {
   "codemirror_mode": "r",
   "file_extension": ".r",
   "mimetype": "text/x-r-source",
   "name": "R",
   "pygments_lexer": "r",
   "version": "3.6.1"
  }
 },
 "nbformat": 4,
 "nbformat_minor": 4
}
